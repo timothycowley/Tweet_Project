{
 "cells": [
  {
   "cell_type": "code",
   "execution_count": 3,
   "metadata": {
    "collapsed": false
   },
   "outputs": [
    {
     "name": "stdout",
     "output_type": "stream",
     "text": [
      "Populating the interactive namespace from numpy and matplotlib\n"
     ]
    },
    {
     "data": {
      "text/plain": [
       "[<matplotlib.lines.Line2D at 0x7fb9c95eb9e8>]"
      ]
     },
     "execution_count": 3,
     "metadata": {},
     "output_type": "execute_result"
    },
    {
     "data": {
      "image/png": "[encoded data removed]",
      "text/plain": [
       "<matplotlib.figure.Figure at 0x7fb9b9f0b5f8>"
      ]
     },
     "metadata": {},
     "output_type": "display_data"
    }
   ],
   "source": [
    "%pylab inline\n",
    "PROJECT_DIR = '/media/sf_VM_share/TweetProject/'\n",
    "TRUNCATED_SVD_PKL = PROJECT_DIR + 'models/truncated_svd.pkl'\n",
    "\n",
    "import pickle\n",
    "import pylab as pl\n",
    "\n",
    "with open(TRUNCATED_SVD_PKL, 'rb') as input:\n",
    "    tSVD = pickle.load(input)\n",
    "    explained_variance = tSVD.explained_variance_\n",
    "    \n",
    "    diminishing_return = []\n",
    "    sum = 0\n",
    "    for i in range(len(explained_variance)):\n",
    "        sum += explained_variance[i]\n",
    "        diminishing_return.append(sum)\n",
    "    \n",
    "pl.plot(diminishing_return)\n",
    "    \n"
   ]
  },
  {
   "cell_type": "code",
   "execution_count": 15,
   "metadata": {
    "collapsed": true
   },
   "outputs": [],
   "source": [
    "# (c) 2014 Reid Johnson\n",
    "# BSD License\n",
    "#\n",
    "# Function to compute the sum of squared distance (SSQ) for evaluating k-means clustering.\n",
    "\n",
    "import numpy as np\n",
    "import scipy as sp\n",
    "import sklearn.cluster\n",
    "from scipy.spatial.distance import cdist, pdist\n",
    "\n",
    "import pylab as pl\n",
    "\n",
    "def ssq_statistics(data, ks=range(1,11), ssq_norm=True, random=False):\n",
    "    \"\"\"Computes the sum of squares for an nxm dataset.\n",
    "\n",
    "    The sum of squares (SSQ) is a measure of within-cluster variation that measures the sum of \n",
    "    squared distances from cluster prototypes.\n",
    "\n",
    "    Each computation of the SSQ requires the clustering of the input dataset. To identify the \n",
    "    optimal number of clusters k, the SSQ is computed over a range of possible values of k \n",
    "    (via the parameter ks). For each value of k, within-cluster dispersion is calculated for the \n",
    "    input dataset.\n",
    "\n",
    "    The estimated optimal number of clusters, then, is defined as the value of k prior to an\n",
    "    \"elbow\" point in the plot of SSQ values.\n",
    "\n",
    "    Args:\n",
    "      data ((n,m) SciPy array): The dataset on which to compute the gap statistics.\n",
    "      ks (list, optional): The list of values k for which to compute the gap statistics. \n",
    "        Defaults to range(1,11), which creates a list of values from 1 to 10.\n",
    "\n",
    "    Returns:\n",
    "      ssqs: an array of SSQs, one computed for each k.\n",
    "\n",
    "    \"\"\"\n",
    "    ssqs = sp.zeros((len(ks),)) # array for SSQs (lenth ks)\n",
    "\n",
    "    #n_samples, n_features = data.shape # the number of rows (samples) and columns (features)\n",
    "    #if n_samples >= 2500:\n",
    "    #    # Generate a small sub-sample of the data\n",
    "    #    data_sample = shuffle(data, random_state=0)[:1000]\n",
    "    #else:\n",
    "    #    data_sample = data\n",
    "\n",
    "    for (i,k) in enumerate(ks): # iterate over the range of k values        \n",
    "        # Fit the model on the data\n",
    "        #FIXME added if-else to allow randomization\n",
    "        if random:\n",
    "            kmeans = sklearn.cluster.KMeans(n_clusters=k).fit(data)\n",
    "        else:\n",
    "            kmeans = sklearn.cluster.KMeans(n_clusters=k, random_state=0).fit(data)\n",
    "\n",
    "        # Predict on the data (k-means) and get labels\n",
    "        #labels = kmeans.predict(data)\n",
    "\n",
    "        if ssq_norm:\n",
    "            dist = np.min(cdist(data, kmeans.cluster_centers_, 'euclidean'), axis=1)\n",
    "            \n",
    "        \n",
    "            \n",
    "            tot_withinss = sum(dist**2) # Total within-cluster sum of squares\n",
    "            totss = sum(pdist(data)**2) / data.shape[0] # The total sum of squares\n",
    "            betweenss = totss - tot_withinss # The between-cluster sum of squares\n",
    "            ssqs[i] = betweenss/totss*100\n",
    "        else:\n",
    "            # The sum of squared error (SSQ) for k\n",
    "            ssqs[i] = kmeans.inertia_\n",
    "\n",
    "    return ssqs\n",
    "\n",
    "def plot_ssq_statistics(ssqs, start=1):\n",
    "    \"\"\"Generates and shows plots for the sum of squares (SSQ).\n",
    "\n",
    "    A figure with one plot is generated. The plot is a bar plot of the SSQ computed for each \n",
    "    value of k.\n",
    "\n",
    "    Args:\n",
    "      ssqs (SciPy array): An array of SSQs, one computed for each k.\n",
    "\n",
    "    \"\"\"\n",
    "    # Create a figure\n",
    "    fig = pl.figure(figsize=(6.75, 4))\n",
    "\n",
    "    ind = range(1,len(ssqs)+1) # the x values for the ssqs\n",
    "    width = 0.5 # the width of the bars\n",
    "\n",
    "    # Create a bar plot\n",
    "    #rects = pl.bar(ind, ssqs, width)\n",
    "    pl.plot(ind, ssqs)\n",
    "\n",
    "    # Add figure labels and ticks\n",
    "    pl.title('Clustering Sum of Squared Distances', fontsize=16)\n",
    "    pl.xlabel('Number of clusters k', fontsize=14)\n",
    "    pl.ylabel('Sum of Squared Distance (SSQ)', fontsize=14)\n",
    "    #FIXME\n",
    "    pl.xticks(ind,[i+start-1 for i in ind])\n",
    "\n",
    "    # Add text labels\n",
    "    #for rect in rects:\n",
    "    #    height = rect.get_height()\n",
    "    #    pl.text(rect.get_x()+rect.get_width()/2., 1.05*height, '%d' % int(height), \\\n",
    "    #            ha='center', va='bottom')\n",
    "\n",
    "    # Add figure bounds\n",
    "    pl.ylim(0, max(ssqs)*1.2)\n",
    "    pl.xlim(0, len(ssqs)+1.0)\n",
    "\n",
    "    pl.show()"
   ]
  },
  {
   "cell_type": "code",
   "execution_count": 16,
   "metadata": {
    "collapsed": true
   },
   "outputs": [],
   "source": [
    "# runs ssqs on given k range multiple times with random seeds\n",
    "# returns the average elbow point\n",
    "# as determined by 2nd derivative estimate\n",
    "# start and end are the start and end of the range, inclusive\n",
    "from scipy import ndimage as ndi\n",
    "\n",
    "def avg_ssqs_elbow(data, start=1, end=50, replicates=10):\n",
    "    results = []\n",
    "    for i in range(replicates):\n",
    "        ssqs = ssq_statistics(data, ks=range(start,end+1), random=True)\n",
    "        sec_der = ndi.filters.laplace(ssqs)\n",
    "        min_val = 2^30\n",
    "        index = 0\n",
    "        for x in range(len(sec_der)):\n",
    "            if sec_der[x] < min_val:\n",
    "                index = x\n",
    "                min_val = sec_der[x]\n",
    "        results.append(index + start) \n",
    "    return sum(results)/float(len(results)), min(results), max(results), len(results)"
   ]
  },
  {
   "cell_type": "code",
   "execution_count": 17,
   "metadata": {
    "collapsed": false
   },
   "outputs": [
    {
     "ename": "TypeError",
     "evalue": "'numpy.float64' object is not callable",
     "output_type": "error",
     "traceback": [
      "\u001b[1;31m---------------------------------------------------------------------------\u001b[0m",
      "\u001b[1;31mTypeError\u001b[0m                                 Traceback (most recent call last)",
      "\u001b[1;32m<ipython-input-17-7a2022a97aa5>\u001b[0m in \u001b[0;36m<module>\u001b[1;34m()\u001b[0m\n\u001b[0;32m      2\u001b[0m \u001b[1;32mwith\u001b[0m \u001b[0mopen\u001b[0m\u001b[1;33m(\u001b[0m\u001b[0mTRANSFORMED_DATA\u001b[0m\u001b[1;33m,\u001b[0m \u001b[1;34m'rb'\u001b[0m\u001b[1;33m)\u001b[0m \u001b[1;32mas\u001b[0m \u001b[0minput\u001b[0m\u001b[1;33m:\u001b[0m\u001b[1;33m\u001b[0m\u001b[0m\n\u001b[0;32m      3\u001b[0m     \u001b[0mdata\u001b[0m \u001b[1;33m=\u001b[0m \u001b[0mpickle\u001b[0m\u001b[1;33m.\u001b[0m\u001b[0mload\u001b[0m\u001b[1;33m(\u001b[0m\u001b[0minput\u001b[0m\u001b[1;33m)\u001b[0m\u001b[1;33m\u001b[0m\u001b[0m\n\u001b[1;32m----> 4\u001b[1;33m     \u001b[0mavg_ssqs_elbow\u001b[0m\u001b[1;33m(\u001b[0m\u001b[0mdata\u001b[0m\u001b[1;33m)\u001b[0m\u001b[1;33m\u001b[0m\u001b[0m\n\u001b[0m",
      "\u001b[1;32m<ipython-input-16-1d878dd6f97e>\u001b[0m in \u001b[0;36mavg_ssqs_elbow\u001b[1;34m(data, start, end, replicates)\u001b[0m\n\u001b[0;32m      8\u001b[0m     \u001b[0mresults\u001b[0m \u001b[1;33m=\u001b[0m \u001b[1;33m[\u001b[0m\u001b[1;33m]\u001b[0m\u001b[1;33m\u001b[0m\u001b[0m\n\u001b[0;32m      9\u001b[0m     \u001b[1;32mfor\u001b[0m \u001b[0mi\u001b[0m \u001b[1;32min\u001b[0m \u001b[0mrange\u001b[0m\u001b[1;33m(\u001b[0m\u001b[0mreplicates\u001b[0m\u001b[1;33m)\u001b[0m\u001b[1;33m:\u001b[0m\u001b[1;33m\u001b[0m\u001b[0m\n\u001b[1;32m---> 10\u001b[1;33m         \u001b[0mssqs\u001b[0m \u001b[1;33m=\u001b[0m \u001b[0mssq_statistics\u001b[0m\u001b[1;33m(\u001b[0m\u001b[0mdata\u001b[0m\u001b[1;33m,\u001b[0m \u001b[0mks\u001b[0m\u001b[1;33m=\u001b[0m\u001b[0mrange\u001b[0m\u001b[1;33m(\u001b[0m\u001b[0mstart\u001b[0m\u001b[1;33m,\u001b[0m\u001b[0mend\u001b[0m\u001b[1;33m+\u001b[0m\u001b[1;36m1\u001b[0m\u001b[1;33m)\u001b[0m\u001b[1;33m,\u001b[0m \u001b[0mrandom\u001b[0m\u001b[1;33m=\u001b[0m\u001b[1;32mTrue\u001b[0m\u001b[1;33m)\u001b[0m\u001b[1;33m\u001b[0m\u001b[0m\n\u001b[0m\u001b[0;32m     11\u001b[0m         \u001b[0msec_der\u001b[0m \u001b[1;33m=\u001b[0m \u001b[0mndi\u001b[0m\u001b[1;33m.\u001b[0m\u001b[0mfilters\u001b[0m\u001b[1;33m.\u001b[0m\u001b[0mlaplace\u001b[0m\u001b[1;33m(\u001b[0m\u001b[0mssqs\u001b[0m\u001b[1;33m)\u001b[0m\u001b[1;33m\u001b[0m\u001b[0m\n\u001b[0;32m     12\u001b[0m         \u001b[0mmin_val\u001b[0m \u001b[1;33m=\u001b[0m \u001b[1;36m2\u001b[0m\u001b[1;33m^\u001b[0m\u001b[1;36m30\u001b[0m\u001b[1;33m\u001b[0m\u001b[0m\n",
      "\u001b[1;32m<ipython-input-15-cf2232483759>\u001b[0m in \u001b[0;36mssq_statistics\u001b[1;34m(data, ks, ssq_norm, random)\u001b[0m\n\u001b[0;32m     59\u001b[0m \u001b[1;33m\u001b[0m\u001b[0m\n\u001b[0;32m     60\u001b[0m \u001b[1;33m\u001b[0m\u001b[0m\n\u001b[1;32m---> 61\u001b[1;33m             \u001b[0mtot_withinss\u001b[0m \u001b[1;33m=\u001b[0m \u001b[0msum\u001b[0m\u001b[1;33m(\u001b[0m\u001b[0mdist\u001b[0m\u001b[1;33m**\u001b[0m\u001b[1;36m2\u001b[0m\u001b[1;33m)\u001b[0m \u001b[1;31m# Total within-cluster sum of squares\u001b[0m\u001b[1;33m\u001b[0m\u001b[0m\n\u001b[0m\u001b[0;32m     62\u001b[0m             \u001b[0mtotss\u001b[0m \u001b[1;33m=\u001b[0m \u001b[0msum\u001b[0m\u001b[1;33m(\u001b[0m\u001b[0mpdist\u001b[0m\u001b[1;33m(\u001b[0m\u001b[0mdata\u001b[0m\u001b[1;33m)\u001b[0m\u001b[1;33m**\u001b[0m\u001b[1;36m2\u001b[0m\u001b[1;33m)\u001b[0m \u001b[1;33m/\u001b[0m \u001b[0mdata\u001b[0m\u001b[1;33m.\u001b[0m\u001b[0mshape\u001b[0m\u001b[1;33m[\u001b[0m\u001b[1;36m0\u001b[0m\u001b[1;33m]\u001b[0m \u001b[1;31m# The total sum of squares\u001b[0m\u001b[1;33m\u001b[0m\u001b[0m\n\u001b[0;32m     63\u001b[0m             \u001b[0mbetweenss\u001b[0m \u001b[1;33m=\u001b[0m \u001b[0mtotss\u001b[0m \u001b[1;33m-\u001b[0m \u001b[0mtot_withinss\u001b[0m \u001b[1;31m# The between-cluster sum of squares\u001b[0m\u001b[1;33m\u001b[0m\u001b[0m\n",
      "\u001b[1;31mTypeError\u001b[0m: 'numpy.float64' object is not callable"
     ]
    }
   ],
   "source": [
    "TRANSFORMED_DATA = '/media/sf_VM_share/TweetProject/models/transformed_data.pkl'\n",
    "with open(TRANSFORMED_DATA, 'rb') as input: \n",
    "    data = pickle.load(input)\n",
    "    avg_ssqs_elbow(data)"
   ]
  },
  {
   "cell_type": "code",
   "execution_count": 18,
   "metadata": {
    "collapsed": false
   },
   "outputs": [
    {
     "ename": "TypeError",
     "evalue": "'numpy.float64' object is not callable",
     "output_type": "error",
     "traceback": [
      "\u001b[1;31m---------------------------------------------------------------------------\u001b[0m",
      "\u001b[1;31mTypeError\u001b[0m                                 Traceback (most recent call last)",
      "\u001b[1;32m<ipython-input-18-4a61385c3078>\u001b[0m in \u001b[0;36m<module>\u001b[1;34m()\u001b[0m\n\u001b[0;32m      7\u001b[0m \u001b[1;31m#plot_ssq_statistics(ssqs, start=1)\u001b[0m\u001b[1;33m\u001b[0m\u001b[1;33m\u001b[0m\u001b[0m\n\u001b[0;32m      8\u001b[0m \u001b[1;33m\u001b[0m\u001b[0m\n\u001b[1;32m----> 9\u001b[1;33m \u001b[0mavg_ssqs_elbow\u001b[0m\u001b[1;33m(\u001b[0m\u001b[0midata\u001b[0m\u001b[1;33m)\u001b[0m\u001b[1;33m\u001b[0m\u001b[0m\n\u001b[0m",
      "\u001b[1;32m<ipython-input-16-1d878dd6f97e>\u001b[0m in \u001b[0;36mavg_ssqs_elbow\u001b[1;34m(data, start, end, replicates)\u001b[0m\n\u001b[0;32m      8\u001b[0m     \u001b[0mresults\u001b[0m \u001b[1;33m=\u001b[0m \u001b[1;33m[\u001b[0m\u001b[1;33m]\u001b[0m\u001b[1;33m\u001b[0m\u001b[0m\n\u001b[0;32m      9\u001b[0m     \u001b[1;32mfor\u001b[0m \u001b[0mi\u001b[0m \u001b[1;32min\u001b[0m \u001b[0mrange\u001b[0m\u001b[1;33m(\u001b[0m\u001b[0mreplicates\u001b[0m\u001b[1;33m)\u001b[0m\u001b[1;33m:\u001b[0m\u001b[1;33m\u001b[0m\u001b[0m\n\u001b[1;32m---> 10\u001b[1;33m         \u001b[0mssqs\u001b[0m \u001b[1;33m=\u001b[0m \u001b[0mssq_statistics\u001b[0m\u001b[1;33m(\u001b[0m\u001b[0mdata\u001b[0m\u001b[1;33m,\u001b[0m \u001b[0mks\u001b[0m\u001b[1;33m=\u001b[0m\u001b[0mrange\u001b[0m\u001b[1;33m(\u001b[0m\u001b[0mstart\u001b[0m\u001b[1;33m,\u001b[0m\u001b[0mend\u001b[0m\u001b[1;33m+\u001b[0m\u001b[1;36m1\u001b[0m\u001b[1;33m)\u001b[0m\u001b[1;33m,\u001b[0m \u001b[0mrandom\u001b[0m\u001b[1;33m=\u001b[0m\u001b[1;32mTrue\u001b[0m\u001b[1;33m)\u001b[0m\u001b[1;33m\u001b[0m\u001b[0m\n\u001b[0m\u001b[0;32m     11\u001b[0m         \u001b[0msec_der\u001b[0m \u001b[1;33m=\u001b[0m \u001b[0mndi\u001b[0m\u001b[1;33m.\u001b[0m\u001b[0mfilters\u001b[0m\u001b[1;33m.\u001b[0m\u001b[0mlaplace\u001b[0m\u001b[1;33m(\u001b[0m\u001b[0mssqs\u001b[0m\u001b[1;33m)\u001b[0m\u001b[1;33m\u001b[0m\u001b[0m\n\u001b[0;32m     12\u001b[0m         \u001b[0mmin_val\u001b[0m \u001b[1;33m=\u001b[0m \u001b[1;36m2\u001b[0m\u001b[1;33m^\u001b[0m\u001b[1;36m30\u001b[0m\u001b[1;33m\u001b[0m\u001b[0m\n",
      "\u001b[1;32m<ipython-input-15-cf2232483759>\u001b[0m in \u001b[0;36mssq_statistics\u001b[1;34m(data, ks, ssq_norm, random)\u001b[0m\n\u001b[0;32m     59\u001b[0m \u001b[1;33m\u001b[0m\u001b[0m\n\u001b[0;32m     60\u001b[0m \u001b[1;33m\u001b[0m\u001b[0m\n\u001b[1;32m---> 61\u001b[1;33m             \u001b[0mtot_withinss\u001b[0m \u001b[1;33m=\u001b[0m \u001b[0msum\u001b[0m\u001b[1;33m(\u001b[0m\u001b[0mdist\u001b[0m\u001b[1;33m**\u001b[0m\u001b[1;36m2\u001b[0m\u001b[1;33m)\u001b[0m \u001b[1;31m# Total within-cluster sum of squares\u001b[0m\u001b[1;33m\u001b[0m\u001b[0m\n\u001b[0m\u001b[0;32m     62\u001b[0m             \u001b[0mtotss\u001b[0m \u001b[1;33m=\u001b[0m \u001b[0msum\u001b[0m\u001b[1;33m(\u001b[0m\u001b[0mpdist\u001b[0m\u001b[1;33m(\u001b[0m\u001b[0mdata\u001b[0m\u001b[1;33m)\u001b[0m\u001b[1;33m**\u001b[0m\u001b[1;36m2\u001b[0m\u001b[1;33m)\u001b[0m \u001b[1;33m/\u001b[0m \u001b[0mdata\u001b[0m\u001b[1;33m.\u001b[0m\u001b[0mshape\u001b[0m\u001b[1;33m[\u001b[0m\u001b[1;36m0\u001b[0m\u001b[1;33m]\u001b[0m \u001b[1;31m# The total sum of squares\u001b[0m\u001b[1;33m\u001b[0m\u001b[0m\n\u001b[0;32m     63\u001b[0m             \u001b[0mbetweenss\u001b[0m \u001b[1;33m=\u001b[0m \u001b[0mtotss\u001b[0m \u001b[1;33m-\u001b[0m \u001b[0mtot_withinss\u001b[0m \u001b[1;31m# The between-cluster sum of squares\u001b[0m\u001b[1;33m\u001b[0m\u001b[0m\n",
      "\u001b[1;31mTypeError\u001b[0m: 'numpy.float64' object is not callable"
     ]
    }
   ],
   "source": [
    "from sklearn import datasets\n",
    "#load the Iris Flower Dataset\n",
    "iris = datasets.load_iris()\n",
    "idata = iris.data\n",
    "\n",
    "#ssqs = ssq_statistics(idata, ks=range(1,11))\n",
    "#plot_ssq_statistics(ssqs, start=1)\n",
    "\n",
    "avg_ssqs_elbow(idata)"
   ]
  },
  {
   "cell_type": "code",
   "execution_count": null,
   "metadata": {
    "collapsed": true
   },
   "outputs": [],
   "source": []
  }
 ],
 "metadata": {
  "kernelspec": {
   "display_name": "Python [Root]",
   "language": "python",
   "name": "Python [Root]"
  },
  "language_info": {
   "codemirror_mode": {
    "name": "ipython",
    "version": 3
   },
   "file_extension": ".py",
   "mimetype": "text/x-python",
   "name": "python",
   "nbconvert_exporter": "python",
   "pygments_lexer": "ipython3",
   "version": "3.5.2"
  }
 },
 "nbformat": 4,
 "nbformat_minor": 0
}
